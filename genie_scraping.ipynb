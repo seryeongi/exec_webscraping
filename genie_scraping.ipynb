{
 "cells": [
  {
   "cell_type": "code",
   "execution_count": 1,
   "id": "d32aaa99",
   "metadata": {},
   "outputs": [],
   "source": [
    "from selenium import webdriver"
   ]
  },
  {
   "cell_type": "code",
   "execution_count": 2,
   "id": "e4abd06f",
   "metadata": {},
   "outputs": [],
   "source": [
    "browser = webdriver.Chrome('./chromedriver.exe')"
   ]
  },
  {
   "cell_type": "code",
   "execution_count": 3,
   "id": "8506c207",
   "metadata": {},
   "outputs": [],
   "source": [
    "browser.get('https://www.genie.co.kr/chart/top200')"
   ]
  },
  {
   "cell_type": "code",
   "execution_count": 5,
   "id": "b73282d8",
   "metadata": {},
   "outputs": [],
   "source": [
    "html = browser.page_source # html 가져오기"
   ]
  },
  {
   "cell_type": "code",
   "execution_count": 6,
   "id": "390908bc",
   "metadata": {},
   "outputs": [],
   "source": [
    "from bs4 import BeautifulSoup"
   ]
  },
  {
   "cell_type": "code",
   "execution_count": 10,
   "id": "dcbbd47b",
   "metadata": {},
   "outputs": [],
   "source": [
    "soup = BeautifulSoup(html, 'html.parser') # ''-> 구조화시키면 더 좋은 옵션"
   ]
  },
  {
   "cell_type": "code",
   "execution_count": 11,
   "id": "22f0b84e",
   "metadata": {},
   "outputs": [
    {
     "data": {
      "text/plain": [
       "(1, bs4.BeautifulSoup)"
      ]
     },
     "execution_count": 11,
     "metadata": {},
     "output_type": "execute_result"
    }
   ],
   "source": [
    "len(soup), type(soup)"
   ]
  },
  {
   "cell_type": "code",
   "execution_count": 13,
   "id": "2070d565",
   "metadata": {},
   "outputs": [],
   "source": [
    "tags = soup.select('td.info') # 지니에서 가져옴"
   ]
  },
  {
   "cell_type": "code",
   "execution_count": 14,
   "id": "f4945aa9",
   "metadata": {},
   "outputs": [
    {
     "data": {
      "text/plain": [
       "(50, bs4.element.ResultSet)"
      ]
     },
     "execution_count": 14,
     "metadata": {},
     "output_type": "execute_result"
    }
   ],
   "source": [
    "len(tags), type(tags)"
   ]
  },
  {
   "cell_type": "code",
   "execution_count": 16,
   "id": "5a14f358",
   "metadata": {
    "scrolled": true
   },
   "outputs": [],
   "source": [
    "tag = tags[0] # tag 가 여러개 -> 하나의 tag가 될때까지 여러번 select 가능"
   ]
  },
  {
   "cell_type": "markdown",
   "id": "6e3d5779",
   "metadata": {},
   "source": [
    "a tag 가 여러개-> a 태그로만 안되겠네  \n",
    "곡명 : a.title, 가수이름 : a.artist"
   ]
  },
  {
   "cell_type": "code",
   "execution_count": 19,
   "id": "f8b527f1",
   "metadata": {},
   "outputs": [],
   "source": [
    "title = tag.select('a.title')"
   ]
  },
  {
   "cell_type": "code",
   "execution_count": 20,
   "id": "6eb38b7b",
   "metadata": {},
   "outputs": [
    {
     "data": {
      "text/plain": [
       "(1, bs4.element.ResultSet)"
      ]
     },
     "execution_count": 20,
     "metadata": {},
     "output_type": "execute_result"
    }
   ],
   "source": [
    "len(title), type(title)"
   ]
  },
  {
   "cell_type": "code",
   "execution_count": 21,
   "id": "8ce0bfdf",
   "metadata": {},
   "outputs": [
    {
     "data": {
      "text/plain": [
       "<a class=\"title ellipsis\" href=\"#\" onclick=\"fnPlaySong('93599531','1');return false;\" title=\"재생\">\n",
       "                                        \n",
       "                                            \n",
       "                                        \n",
       "                                        \n",
       "                                        \n",
       "                                        \n",
       "                                            \n",
       "                                                하루만 더</a>"
      ]
     },
     "execution_count": 21,
     "metadata": {},
     "output_type": "execute_result"
    }
   ],
   "source": [
    "title[0] # 성격이 완전한 하나의 tag이 됨"
   ]
  },
  {
   "cell_type": "code",
   "execution_count": 22,
   "id": "e09da19a",
   "metadata": {},
   "outputs": [
    {
     "data": {
      "text/plain": [
       "'하루만 더'"
      ]
     },
     "execution_count": 22,
     "metadata": {},
     "output_type": "execute_result"
    }
   ],
   "source": [
    "title[0].text.strip()"
   ]
  },
  {
   "cell_type": "code",
   "execution_count": 24,
   "id": "b6b874dd",
   "metadata": {},
   "outputs": [],
   "source": [
    "artist = tag.select('a.artist')"
   ]
  },
  {
   "cell_type": "code",
   "execution_count": 25,
   "id": "7019d856",
   "metadata": {},
   "outputs": [
    {
     "data": {
      "text/plain": [
       "(1, bs4.element.ResultSet)"
      ]
     },
     "execution_count": 25,
     "metadata": {},
     "output_type": "execute_result"
    }
   ],
   "source": [
    "len(artist), type(artist) # result -> list -> 한번더 접근해야함"
   ]
  },
  {
   "cell_type": "code",
   "execution_count": 26,
   "id": "8d97cf3f",
   "metadata": {},
   "outputs": [
    {
     "data": {
      "text/plain": [
       "<a class=\"artist ellipsis\" href=\"#\" onclick=\"fnViewArtist('14957679');return false;\">빅마마 (Big Mama)</a>"
      ]
     },
     "execution_count": 26,
     "metadata": {},
     "output_type": "execute_result"
    }
   ],
   "source": [
    "artist[0]"
   ]
  },
  {
   "cell_type": "code",
   "execution_count": 27,
   "id": "a696adb4",
   "metadata": {},
   "outputs": [
    {
     "data": {
      "text/plain": [
       "'빅마마 (Big Mama)'"
      ]
     },
     "execution_count": 27,
     "metadata": {},
     "output_type": "execute_result"
    }
   ],
   "source": [
    "artist[0].text.strip()"
   ]
  },
  {
   "cell_type": "code",
   "execution_count": 32,
   "id": "767dfab1",
   "metadata": {
    "collapsed": true
   },
   "outputs": [
    {
     "data": {
      "text/plain": [
       "[['하루만 더', '빅마마 (Big Mama)'],\n",
       " ['치맛바람 (Chi Mat Ba Ram)', '브레이브걸스 (Brave girls)'],\n",
       " ['Butter', '방탄소년단'],\n",
       " ['Next Level', 'aespa'],\n",
       " ['Alcohol-Free', 'TWICE (트와이스)'],\n",
       " ['비와 당신', '이무진'],\n",
       " ['헤픈 우연', '헤이즈 (Heize)'],\n",
       " ['Dun Dun Dance', '오마이걸 (OH MY GIRL)'],\n",
       " ['추적이는 여름 비가 되어', '장범준'],\n",
       " [\"롤린 (Rollin')\", '브레이브걸스 (Brave girls)'],\n",
       " ['안녕 (Hello)', '조이 (JOY)'],\n",
       " ['Peaches (Feat. Daniel Caesar & Giveon)', 'Justin Bieber'],\n",
       " ['라일락', '아이유 (IU)'],\n",
       " ['Dynamite', '방탄소년단'],\n",
       " ['운전만해 (We Ride)', '브레이브걸스 (Brave girls)'],\n",
       " ['Ready to love', '세븐틴 (SEVENTEEN)'],\n",
       " ['ASAP', 'STAYC (스테이씨)'],\n",
       " ['신호등', '이무진'],\n",
       " ['상상더하기', 'MSG워너비 TOP 8 (별루지 & 김정수 & 강창모 & 정기석 & 이동휘 & 이상이 & 박재정 & 원슈타인)'],\n",
       " ['Celebrity', '아이유 (IU)'],\n",
       " ['상상더하기', '라붐 (LABOUM)'],\n",
       " ['이제 나만 믿어요', '임영웅'],\n",
       " ['Timeless', 'SG워너비'],\n",
       " ['Savage Love (Laxed - Siren Beat) (BTS Remix)',\n",
       "  'Jawsh 685 & Jason Derulo & 방탄소년단'],\n",
       " ['다정히 내 이름을 부르면', '경서예지 & 전건호'],\n",
       " ['별빛 같은 나의 사랑아', '임영웅'],\n",
       " ['HERO', '임영웅'],\n",
       " ['어떤 말도 할 수가 없는 나인데', '케이시 (Kassy)'],\n",
       " ['작은 것들을 위한 시 (Boy With Luv) (Feat. Halsey)', '방탄소년단'],\n",
       " ['허리춤', '오반 (OVAN)'],\n",
       " ['다시 사랑한다면 (김필 Ver.)', '임영웅'],\n",
       " ['내 손을 잡아', '아이유 (IU)'],\n",
       " ['사이렌 Remix (Feat. UNEDUCATED KID & Paul Blanco)', '호미들'],\n",
       " ['At My Worst', 'Pink Sweat$'],\n",
       " ['봄날', '방탄소년단'],\n",
       " ['잊어야 한다는 마음으로', '임영웅'],\n",
       " ['계단말고 엘리베이터', '임영웅'],\n",
       " ['Anyone', '세븐틴 (SEVENTEEN)'],\n",
       " ['미워요', '임영웅'],\n",
       " ['Life Goes On', '방탄소년단'],\n",
       " ['LOVE DAY (2021) (바른연애 길잡이 X 양요섭, 정은지)', '양요섭 & 정은지'],\n",
       " [\"Heaven's Cloud\", '세븐틴 (SEVENTEEN)'],\n",
       " ['Coin', '아이유 (IU)'],\n",
       " ['흔들리는 꽃들 속에서 네 샴푸향이 느껴진거야', '장범준'],\n",
       " ['소나기', '임영웅'],\n",
       " ['마.피.아. In the morning', 'ITZY (있지)'],\n",
       " ['2002', 'Anne-Marie'],\n",
       " ['Off My Face', 'Justin Bieber'],\n",
       " ['내 입술 따뜻한 커피처럼', '청하 & Colde (콜드)'],\n",
       " ['아주 NICE', '세븐틴 (SEVENTEEN)']]"
      ]
     },
     "execution_count": 32,
     "metadata": {},
     "output_type": "execute_result"
    }
   ],
   "source": [
    "contents = list()\n",
    "for tag in tags:\n",
    "    title = tag.select('a.title')\n",
    "    artist = tag.select('a.artist')\n",
    "#     print(title[0].text.strip(), artist[0].text.strip())\n",
    "    song = [title[0].text.strip(), artist[0].text.strip()]\n",
    "    contents.append(song)\n",
    "\n",
    "contents"
   ]
  },
  {
   "cell_type": "code",
   "execution_count": 33,
   "id": "5125c67e",
   "metadata": {},
   "outputs": [],
   "source": [
    "import pandas as pd"
   ]
  },
  {
   "cell_type": "code",
   "execution_count": 36,
   "id": "135af912",
   "metadata": {},
   "outputs": [],
   "source": [
    "pd_data = pd.DataFrame(contents, columns = ['title','artist'])"
   ]
  },
  {
   "cell_type": "code",
   "execution_count": 38,
   "id": "9f003483",
   "metadata": {},
   "outputs": [
    {
     "name": "stderr",
     "output_type": "stream",
     "text": [
      "<ipython-input-38-83619d22b651>:1: FutureWarning: As the xlwt package is no longer maintained, the xlwt engine will be removed in a future version of pandas. This is the only engine in pandas that supports writing in the xls format. Install openpyxl and write to an xlsx file instead. You can set the option io.excel.xls.writer to 'xlwt' to silence this warning. While this option is deprecated and will also raise a warning, it can be globally set and the warning suppressed.\n",
      "  pd_data.to_excel('./saves/genie_scraping.xls')\n"
     ]
    }
   ],
   "source": [
    "pd_data.to_excel('./saves/genie_scraping.xls', index=Fa)"
   ]
  },
  {
   "cell_type": "code",
   "execution_count": null,
   "id": "c5d89b76",
   "metadata": {},
   "outputs": [],
   "source": []
  }
 ],
 "metadata": {
  "kernelspec": {
   "display_name": "Python 3",
   "language": "python",
   "name": "python3"
  },
  "language_info": {
   "codemirror_mode": {
    "name": "ipython",
    "version": 3
   },
   "file_extension": ".py",
   "mimetype": "text/x-python",
   "name": "python",
   "nbconvert_exporter": "python",
   "pygments_lexer": "ipython3",
   "version": "3.8.8"
  }
 },
 "nbformat": 4,
 "nbformat_minor": 5
}
